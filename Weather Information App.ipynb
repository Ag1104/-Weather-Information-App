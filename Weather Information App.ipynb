{
 "cells": [
  {
   "cell_type": "code",
   "execution_count": 3,
   "id": "018ee88b",
   "metadata": {},
   "outputs": [
    {
     "name": "stdout",
     "output_type": "stream",
     "text": [
      "Enter city to search: london\n",
      "{'Temperature': '45°C', 'Precipitation': 'False', 'Humidity': 'Cool day', 'Air Pressure': '10mmHg', 'Wind Speed': '>20', 'Wind Direction': 'North West'}\n"
     ]
    }
   ],
   "source": [
    "weather_condition = {\n",
    "    \"nigeria\": { \"Temperature\": \"30°C\",\n",
    "        \"Precipitation\":\"True\",\n",
    "        \"Humidity\": \"Partly clouded\",\n",
    "        \"Air Pressure\": \"12mmHg\",\n",
    "        \"Wind Speed\": \">20\",\n",
    "        \"Wind Direction\": \"South East\"},\n",
    "    \n",
    "    \"london\":{ \"Temperature\": \"45°C\",\n",
    "        \"Precipitation\":\"False\",\n",
    "        \"Humidity\": \"Cool day\",\n",
    "        \"Air Pressure\": \"10mmHg\",\n",
    "        \"Wind Speed\": \">20\",\n",
    "        \"Wind Direction\": \"North West\"},\n",
    "    \n",
    "    \"spain\": { \"Temperature\": \"-15°C\",\n",
    "        \"Precipitation\":\"False\",\n",
    "        \"Humidity\": \"Snow\",\n",
    "        \"Air Pressure\": \"-10mmHg\",\n",
    "        \"Wind Speed\": \">20\",\n",
    "        \"Wind Direction\": \"South West\"}\n",
    "}\n",
    "search = input(\"Enter city to search: \").casefold()\n",
    "print(weather_condition[search])"
   ]
  },
  {
   "cell_type": "code",
   "execution_count": null,
   "id": "66d98206",
   "metadata": {},
   "outputs": [],
   "source": []
  }
 ],
 "metadata": {
  "kernelspec": {
   "display_name": "Python 3 (ipykernel)",
   "language": "python",
   "name": "python3"
  },
  "language_info": {
   "codemirror_mode": {
    "name": "ipython",
    "version": 3
   },
   "file_extension": ".py",
   "mimetype": "text/x-python",
   "name": "python",
   "nbconvert_exporter": "python",
   "pygments_lexer": "ipython3",
   "version": "3.11.5"
  }
 },
 "nbformat": 4,
 "nbformat_minor": 5
}
